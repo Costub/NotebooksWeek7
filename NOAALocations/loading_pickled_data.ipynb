{
  "metadata": {
    "kernelspec": {
      "name": "python",
      "display_name": "Python (Pyodide)",
      "language": "python"
    },
    "language_info": {
      "codemirror_mode": {
        "name": "python",
        "version": 3
      },
      "file_extension": ".py",
      "mimetype": "text/x-python",
      "name": "python",
      "nbconvert_exporter": "python",
      "pygments_lexer": "ipython3",
      "version": "3.8"
    }
  },
  "nbformat_minor": 4,
  "nbformat": 4,
  "cells": [
    {
      "cell_type": "code",
      "source": "# import pandas module\n# import os module\nimport pandas as pd\nimport os",
      "metadata": {
        "trusted": true
      },
      "outputs": [],
      "execution_count": 1
    },
    {
      "cell_type": "code",
      "source": "# Define a file path (using os module) pointing to the pickled file from Exercise 1\n# Create a Pandas DataFrame from the pickled file. Use the file path as an argument.\n\ndf = pd.read_pickle(\"locations_data_frame.pickle\")",
      "metadata": {
        "trusted": true
      },
      "outputs": [],
      "execution_count": 2
    },
    {
      "cell_type": "code",
      "source": "# Display the DataFrame\ndf.head()",
      "metadata": {
        "trusted": true
      },
      "outputs": [
        {
          "execution_count": 3,
          "output_type": "execute_result",
          "data": {
            "text/plain": "      mindate     maxdate           name  datacoverage             id  \\\n0  1983-01-01  2019-11-16  Abu Dhabi, AE        1.0000  CITY:AE000001   \n1  1974-08-01  2019-11-16     Mersin, TU        0.9986  CITY:TU000042   \n\n             source  \n0  locations_0.json  \n1  locations_0.json  ",
            "text/html": "<div>\n<style scoped>\n    .dataframe tbody tr th:only-of-type {\n        vertical-align: middle;\n    }\n\n    .dataframe tbody tr th {\n        vertical-align: top;\n    }\n\n    .dataframe thead th {\n        text-align: right;\n    }\n</style>\n<table border=\"1\" class=\"dataframe\">\n  <thead>\n    <tr style=\"text-align: right;\">\n      <th></th>\n      <th>mindate</th>\n      <th>maxdate</th>\n      <th>name</th>\n      <th>datacoverage</th>\n      <th>id</th>\n      <th>source</th>\n    </tr>\n  </thead>\n  <tbody>\n    <tr>\n      <th>0</th>\n      <td>1983-01-01</td>\n      <td>2019-11-16</td>\n      <td>Abu Dhabi, AE</td>\n      <td>1.0000</td>\n      <td>CITY:AE000001</td>\n      <td>locations_0.json</td>\n    </tr>\n    <tr>\n      <th>1</th>\n      <td>1974-08-01</td>\n      <td>2019-11-16</td>\n      <td>Mersin, TU</td>\n      <td>0.9986</td>\n      <td>CITY:TU000042</td>\n      <td>locations_0.json</td>\n    </tr>\n  </tbody>\n</table>\n</div>"
          },
          "metadata": {}
        }
      ],
      "execution_count": 3
    },
    {
      "cell_type": "code",
      "source": "",
      "metadata": {
        "trusted": true
      },
      "outputs": [],
      "execution_count": null
    }
  ]
}