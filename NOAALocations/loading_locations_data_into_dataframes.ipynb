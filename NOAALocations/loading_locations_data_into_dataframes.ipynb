{
  "metadata": {
    "kernelspec": {
      "name": "python",
      "display_name": "Python (Pyodide)",
      "language": "python"
    },
    "language_info": {
      "codemirror_mode": {
        "name": "python",
        "version": 3
      },
      "file_extension": ".py",
      "mimetype": "text/x-python",
      "name": "python",
      "nbconvert_exporter": "python",
      "pygments_lexer": "ipython3",
      "version": "3.8"
    }
  },
  "nbformat_minor": 4,
  "nbformat": 4,
  "cells": [
    {
      "cell_type": "code",
      "source": "import pandas as pd\nimport os\nimport json",
      "metadata": {
        "trusted": true
      },
      "outputs": [],
      "execution_count": 2
    },
    {
      "cell_type": "markdown",
      "source": "## Read a single JSON",
      "metadata": {}
    },
    {
      "cell_type": "markdown",
      "source": "Define a function called read_json. Given a string representing a file path to a json file, this function should open said file and convert its contens into a json object.",
      "metadata": {}
    },
    {
      "cell_type": "code",
      "source": "# implement me\ndef read_json(file_path):\n    f = open(file_path)\n    json_data = json.load(f)\n    return json_data",
      "metadata": {
        "trusted": true
      },
      "outputs": [],
      "execution_count": 7
    },
    {
      "cell_type": "markdown",
      "source": "Use the read_json function defined above to read the contents of one of the locations_4.json file acquired in the Data Acquisition Lab.",
      "metadata": {}
    },
    {
      "cell_type": "code",
      "source": "file_path = os.path.join('./', 'data', 'locations', 'locations_4.json')\njson_contents = read_json(file_path)",
      "metadata": {
        "trusted": true
      },
      "outputs": [],
      "execution_count": 8
    },
    {
      "cell_type": "markdown",
      "source": "Display the value of the json_contents variable defined above.",
      "metadata": {}
    },
    {
      "cell_type": "code",
      "source": "json_contents",
      "metadata": {
        "trusted": true
      },
      "outputs": [
        {
          "execution_count": 9,
          "output_type": "execute_result",
          "data": {
            "text/plain": "{'metadata': {'resultset': {'offset': 1, 'count': 38859, 'limit': 1000}},\n 'results': [{'mindate': '1983-01-01',\n   'maxdate': '2019-11-16',\n   'name': 'Abu Dhabi, AE',\n   'datacoverage': 1,\n   'id': 'CITY:AE000001'},\n  {'mindate': '1974-08-01',\n   'maxdate': '2019-11-16',\n   'name': 'Mersin, TU',\n   'datacoverage': 0.9986,\n   'id': 'CITY:TU000042'}]}"
          },
          "metadata": {}
        }
      ],
      "execution_count": 9
    },
    {
      "cell_type": "markdown",
      "source": "## Convert JSON Into a DataFrame",
      "metadata": {}
    },
    {
      "cell_type": "markdown",
      "source": "Using the json_contents variable, create a Pandas dataframe.",
      "metadata": {}
    },
    {
      "cell_type": "code",
      "source": "# Create DataFrame here.\ndf = pd.json_normalize(json_contents['results'])",
      "metadata": {
        "trusted": true
      },
      "outputs": [],
      "execution_count": 10
    },
    {
      "cell_type": "markdown",
      "source": "Display the contents of the DataFrame. ",
      "metadata": {}
    },
    {
      "cell_type": "code",
      "source": "# Display contents of the DataFrame here.\ndf.head()",
      "metadata": {
        "trusted": true
      },
      "outputs": [
        {
          "execution_count": 11,
          "output_type": "execute_result",
          "data": {
            "text/plain": "      mindate     maxdate           name  datacoverage             id\n0  1983-01-01  2019-11-16  Abu Dhabi, AE        1.0000  CITY:AE000001\n1  1974-08-01  2019-11-16     Mersin, TU        0.9986  CITY:TU000042",
            "text/html": "<div>\n<style scoped>\n    .dataframe tbody tr th:only-of-type {\n        vertical-align: middle;\n    }\n\n    .dataframe tbody tr th {\n        vertical-align: top;\n    }\n\n    .dataframe thead th {\n        text-align: right;\n    }\n</style>\n<table border=\"1\" class=\"dataframe\">\n  <thead>\n    <tr style=\"text-align: right;\">\n      <th></th>\n      <th>mindate</th>\n      <th>maxdate</th>\n      <th>name</th>\n      <th>datacoverage</th>\n      <th>id</th>\n    </tr>\n  </thead>\n  <tbody>\n    <tr>\n      <th>0</th>\n      <td>1983-01-01</td>\n      <td>2019-11-16</td>\n      <td>Abu Dhabi, AE</td>\n      <td>1.0000</td>\n      <td>CITY:AE000001</td>\n    </tr>\n    <tr>\n      <th>1</th>\n      <td>1974-08-01</td>\n      <td>2019-11-16</td>\n      <td>Mersin, TU</td>\n      <td>0.9986</td>\n      <td>CITY:TU000042</td>\n    </tr>\n  </tbody>\n</table>\n</div>"
          },
          "metadata": {}
        }
      ],
      "execution_count": 11
    },
    {
      "cell_type": "markdown",
      "source": "How many records are in the DataFrame? How many columns does each record have? ",
      "metadata": {}
    },
    {
      "cell_type": "markdown",
      "source": "Filter the contents of the DataFrame to only show records where the name column contains the string \"Durham\".",
      "metadata": {}
    },
    {
      "cell_type": "code",
      "source": "filtered_df = df[df['name'].str.contains('Durham')]\nfiltered_df.head()",
      "metadata": {
        "trusted": true
      },
      "outputs": [
        {
          "execution_count": 14,
          "output_type": "execute_result",
          "data": {
            "text/plain": "Empty DataFrame\nColumns: [mindate, maxdate, name, datacoverage, id]\nIndex: []",
            "text/html": "<div>\n<style scoped>\n    .dataframe tbody tr th:only-of-type {\n        vertical-align: middle;\n    }\n\n    .dataframe tbody tr th {\n        vertical-align: top;\n    }\n\n    .dataframe thead th {\n        text-align: right;\n    }\n</style>\n<table border=\"1\" class=\"dataframe\">\n  <thead>\n    <tr style=\"text-align: right;\">\n      <th></th>\n      <th>mindate</th>\n      <th>maxdate</th>\n      <th>name</th>\n      <th>datacoverage</th>\n      <th>id</th>\n    </tr>\n  </thead>\n  <tbody>\n  </tbody>\n</table>\n</div>"
          },
          "metadata": {}
        }
      ],
      "execution_count": 14
    },
    {
      "cell_type": "markdown",
      "source": "## Read Multiple JSON Files",
      "metadata": {}
    },
    {
      "cell_type": "markdown",
      "source": "Define a function called read_all_json_files. Given a string representing a path to a directory, this function should read all of the json files and return a Pandas DataFrame containing all of the objects. In addition to the data from the files, this DataFrame should also contain an additional column called \"source\". The source column should be populated with the name of the file from which this record originated from.",
      "metadata": {}
    },
    {
      "cell_type": "code",
      "source": "# implement me\ndef read_all_json_files(JSON_ROOT):\n    df = pd.DataFrame()\n    for filename in os.listdir(JSON_ROOT):\n        with open(os.path.join(JSON_ROOT, filename), 'r') as file:\n            json_data = json.load(file)\n            df_2 = pd.json_normalize(json_data['results'])\n            df_2['source'] = str(filename)\n            df = pd.concat([df,df_2])\n    return df",
      "metadata": {
        "trusted": true
      },
      "outputs": [],
      "execution_count": 57
    },
    {
      "cell_type": "markdown",
      "source": "Use the read_all_json_files function above to read the contents of all locations file acquired in the the Data Acquisition Lab.  \nHint: It is easier if you put all of those files in a dedicated subdirectory ex: (./data/locations/)",
      "metadata": {}
    },
    {
      "cell_type": "code",
      "source": "df = read_all_json_files('./data/locations')",
      "metadata": {
        "trusted": true
      },
      "outputs": [],
      "execution_count": 58
    },
    {
      "cell_type": "markdown",
      "source": "What is the shape of the DataFrame? Does this match the number of columns and records you expected?",
      "metadata": {}
    },
    {
      "cell_type": "code",
      "source": "# Validate the shape of the DataFrame here\ndf.shape",
      "metadata": {
        "trusted": true
      },
      "outputs": [
        {
          "execution_count": 60,
          "output_type": "execute_result",
          "data": {
            "text/plain": "(2, 6)"
          },
          "metadata": {}
        }
      ],
      "execution_count": 60
    },
    {
      "cell_type": "markdown",
      "source": "Show the first few records of the DataFrame.",
      "metadata": {}
    },
    {
      "cell_type": "code",
      "source": "# Show the first few records\ndf.head()",
      "metadata": {
        "trusted": true
      },
      "outputs": [
        {
          "execution_count": 66,
          "output_type": "execute_result",
          "data": {
            "text/plain": "      mindate     maxdate           name  datacoverage             id  \\\n0  1983-01-01  2019-11-16  Abu Dhabi, AE        1.0000  CITY:AE000001   \n1  1974-08-01  2019-11-16     Mersin, TU        0.9986  CITY:TU000042   \n\n             source  \n0  locations_0.json  \n1  locations_0.json  ",
            "text/html": "<div>\n<style scoped>\n    .dataframe tbody tr th:only-of-type {\n        vertical-align: middle;\n    }\n\n    .dataframe tbody tr th {\n        vertical-align: top;\n    }\n\n    .dataframe thead th {\n        text-align: right;\n    }\n</style>\n<table border=\"1\" class=\"dataframe\">\n  <thead>\n    <tr style=\"text-align: right;\">\n      <th></th>\n      <th>mindate</th>\n      <th>maxdate</th>\n      <th>name</th>\n      <th>datacoverage</th>\n      <th>id</th>\n      <th>source</th>\n    </tr>\n  </thead>\n  <tbody>\n    <tr>\n      <th>0</th>\n      <td>1983-01-01</td>\n      <td>2019-11-16</td>\n      <td>Abu Dhabi, AE</td>\n      <td>1.0000</td>\n      <td>CITY:AE000001</td>\n      <td>locations_0.json</td>\n    </tr>\n    <tr>\n      <th>1</th>\n      <td>1974-08-01</td>\n      <td>2019-11-16</td>\n      <td>Mersin, TU</td>\n      <td>0.9986</td>\n      <td>CITY:TU000042</td>\n      <td>locations_0.json</td>\n    </tr>\n  </tbody>\n</table>\n</div>"
          },
          "metadata": {}
        }
      ],
      "execution_count": 66
    },
    {
      "cell_type": "markdown",
      "source": "Show the last few records of the DataFrame.",
      "metadata": {}
    },
    {
      "cell_type": "code",
      "source": "# Show the last few records\ndf.tail()",
      "metadata": {
        "trusted": true
      },
      "outputs": [
        {
          "execution_count": 65,
          "output_type": "execute_result",
          "data": {
            "text/plain": "      mindate     maxdate           name  datacoverage             id  \\\n0  1983-01-01  2019-11-16  Abu Dhabi, AE        1.0000  CITY:AE000001   \n1  1974-08-01  2019-11-16     Mersin, TU        0.9986  CITY:TU000042   \n\n             source  \n0  locations_0.json  \n1  locations_0.json  ",
            "text/html": "<div>\n<style scoped>\n    .dataframe tbody tr th:only-of-type {\n        vertical-align: middle;\n    }\n\n    .dataframe tbody tr th {\n        vertical-align: top;\n    }\n\n    .dataframe thead th {\n        text-align: right;\n    }\n</style>\n<table border=\"1\" class=\"dataframe\">\n  <thead>\n    <tr style=\"text-align: right;\">\n      <th></th>\n      <th>mindate</th>\n      <th>maxdate</th>\n      <th>name</th>\n      <th>datacoverage</th>\n      <th>id</th>\n      <th>source</th>\n    </tr>\n  </thead>\n  <tbody>\n    <tr>\n      <th>0</th>\n      <td>1983-01-01</td>\n      <td>2019-11-16</td>\n      <td>Abu Dhabi, AE</td>\n      <td>1.0000</td>\n      <td>CITY:AE000001</td>\n      <td>locations_0.json</td>\n    </tr>\n    <tr>\n      <th>1</th>\n      <td>1974-08-01</td>\n      <td>2019-11-16</td>\n      <td>Mersin, TU</td>\n      <td>0.9986</td>\n      <td>CITY:TU000042</td>\n      <td>locations_0.json</td>\n    </tr>\n  </tbody>\n</table>\n</div>"
          },
          "metadata": {}
        }
      ],
      "execution_count": 65
    },
    {
      "cell_type": "markdown",
      "source": "## Validate Records Are Unique",
      "metadata": {}
    },
    {
      "cell_type": "markdown",
      "source": "Provide two different ways to determine there are no duplicate records.  \nHint: The id field should be unique.",
      "metadata": {}
    },
    {
      "cell_type": "code",
      "source": "# one day to determine there are not duplicate records\nif df['id'].is_unique:\n    print(\"All IDs are unique.\")\nelse:\n    print(\"IDs are not unique.\")",
      "metadata": {
        "trusted": true
      },
      "outputs": [
        {
          "name": "stdout",
          "text": "All IDs are unique.\n",
          "output_type": "stream"
        }
      ],
      "execution_count": 67
    },
    {
      "cell_type": "code",
      "source": "# another way to determine there are no duplicate records\nif df.duplicated().any():\n    print(\"Duplicate rows exist.\")\nelse:\n    print(\"No duplicate rows.\")",
      "metadata": {
        "trusted": true
      },
      "outputs": [
        {
          "name": "stdout",
          "text": "No duplicate rows.\n",
          "output_type": "stream"
        }
      ],
      "execution_count": 68
    },
    {
      "cell_type": "markdown",
      "source": "# Peking In",
      "metadata": {}
    },
    {
      "cell_type": "markdown",
      "source": "Show the record with id \"CITY:TU000041\". Which file did it come from? ",
      "metadata": {}
    },
    {
      "cell_type": "code",
      "source": "record = df[df['id'] == \"CITY:TU000041\"]\nif not record.empty:\n    print(\"Record :\")\n    print(record.iloc[0])\n    print(\"**********\")\n    print(\"Source :\")\n    print(record['source'].iloc[0])",
      "metadata": {
        "trusted": true
      },
      "outputs": [],
      "execution_count": 81
    },
    {
      "cell_type": "markdown",
      "source": "Show the record with id \"CLIM:0405\". Which file did it come from? ",
      "metadata": {}
    },
    {
      "cell_type": "code",
      "source": "record = df[df['id'] == \"CLIM:0405\"]\nif not record.empty:\n    print(\"Record :\")\n    print(record.iloc[0])\n    print(\"**********\")\n    print(\"Source :\")\n    print(record['source'].iloc[0])",
      "metadata": {
        "trusted": true
      },
      "outputs": [],
      "execution_count": 82
    },
    {
      "cell_type": "markdown",
      "source": "How many unique values are there for the source column in the DataFrame?",
      "metadata": {}
    },
    {
      "cell_type": "code",
      "source": "unique_sources = df['source'].nunique()\nprint(\"Number of unique values in the 'source' column:\", unique_sources)",
      "metadata": {
        "trusted": true
      },
      "outputs": [
        {
          "name": "stdout",
          "text": "Number of unique values in the 'source' column: 1\n",
          "output_type": "stream"
        }
      ],
      "execution_count": 83
    },
    {
      "cell_type": "markdown",
      "source": "How many records did the locations_38.json file contain?",
      "metadata": {}
    },
    {
      "cell_type": "code",
      "source": "records_with_source_38 = df[df['source'] == \"locations_38.json\"]\nnum_records_with_source_38 = len(records_with_source_38)\nprint(num_records_with_source_38)",
      "metadata": {
        "trusted": true
      },
      "outputs": [
        {
          "name": "stdout",
          "text": "0\n",
          "output_type": "stream"
        }
      ],
      "execution_count": 86
    },
    {
      "cell_type": "markdown",
      "source": "We will work with this DataFrame in a subsequent part of the lab. Instead of repeating all of this work again, let's export the DataFrame to a pickled file.",
      "metadata": {}
    },
    {
      "cell_type": "code",
      "source": "# export DataFrame to a pickled file called locations_data_frame.pickle. Save it to the data directory.\ndf.to_pickle(\"locations_data_frame.pickle\")",
      "metadata": {
        "trusted": true
      },
      "outputs": [],
      "execution_count": 87
    }
  ]
}